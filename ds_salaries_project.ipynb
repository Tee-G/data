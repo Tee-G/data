{
 "cells": [
  {
   "cell_type": "code",
   "execution_count": 1,
   "id": "b711358a-6b7d-4d02-a89f-44b26c512a85",
   "metadata": {},
   "outputs": [],
   "source": [
    "import numpy as np\n",
    "import pandas as pd\n",
    "import seaborn as sns\n",
    "import matplotlib.pyplot as plt"
   ]
  },
  {
   "cell_type": "code",
   "execution_count": 2,
   "id": "5a758dc8-d132-44a3-a86e-38eb696a9949",
   "metadata": {},
   "outputs": [
    {
     "name": "stdout",
     "output_type": "stream",
     "text": [
      "   Unnamed: 0  work_year experience_level employment_type  \\\n",
      "0           0       2020               MI              FT   \n",
      "1           1       2020               SE              FT   \n",
      "2           2       2020               SE              FT   \n",
      "3           3       2020               MI              FT   \n",
      "4           4       2020               SE              FT   \n",
      "\n",
      "                    job_title  salary salary_currency  salary_in_usd  \\\n",
      "0              Data Scientist   70000             EUR          79833   \n",
      "1  Machine Learning Scientist  260000             USD         260000   \n",
      "2           Big Data Engineer   85000             GBP         109024   \n",
      "3        Product Data Analyst   20000             USD          20000   \n",
      "4   Machine Learning Engineer  150000             USD         150000   \n",
      "\n",
      "  employee_residence  remote_ratio company_location company_size  \n",
      "0                 DE             0               DE            L  \n",
      "1                 JP             0               JP            S  \n",
      "2                 GB            50               GB            M  \n",
      "3                 HN             0               HN            S  \n",
      "4                 US            50               US            L  \n"
     ]
    }
   ],
   "source": [
    "data=pd.read_csv(r\"C:\\Users\\User\\Documents\\ds_salaries.csv\")\n",
    "f=pd.DataFrame(data)\n",
    "print(f.head())"
   ]
  },
  {
   "cell_type": "code",
   "execution_count": null,
   "id": "e5be7607-a18c-425b-a650-a34326014d04",
   "metadata": {},
   "outputs": [],
   "source": []
  },
  {
   "cell_type": "code",
   "execution_count": 5,
   "id": "46035a9d-0643-4f4e-baea-f277dd4e1b98",
   "metadata": {},
   "outputs": [
    {
     "name": "stdout",
     "output_type": "stream",
     "text": [
      "Index(['Unnamed: 0', 'work_year', 'experience_level', 'employment_type',\n",
      "       'job_title', 'salary', 'salary_currency', 'salary_in_usd',\n",
      "       'employee_residence', 'remote_ratio', 'company_location',\n",
      "       'company_size'],\n",
      "      dtype='object')\n",
      "there are 607 rows in this table\n"
     ]
    }
   ],
   "source": [
    "print(f.columns)\n",
    "print(\"there are\", len(f), \"rows in this table\")\n"
   ]
  },
  {
   "cell_type": "code",
   "execution_count": null,
   "id": "43a761a2-c684-421f-bc20-91cc41ac4931",
   "metadata": {},
   "outputs": [],
   "source": []
  },
  {
   "cell_type": "code",
   "execution_count": 12,
   "id": "0461350f-96db-4cf9-baa3-c53087addc65",
   "metadata": {},
   "outputs": [
    {
     "name": "stdout",
     "output_type": "stream",
     "text": [
      "for 2020, we have 72\n",
      "for 2021, we have 217\n",
      "for 2022, we have 318\n"
     ]
    }
   ],
   "source": [
    "q=f.loc[f[\"work_year\"]==2020]\n",
    "print(\"for 2020, we have\", q[\"work_year\"].count())\n",
    "\n",
    "w=f.loc[f[\"work_year\"]==2021]\n",
    "print(\"for 2021, we have\", w[\"work_year\"].count())\n",
    "\n",
    "e=f.loc[f[\"work_year\"]==2022]\n",
    "print(\"for 2022, we have\", e[\"work_year\"].count())"
   ]
  },
  {
   "cell_type": "code",
   "execution_count": null,
   "id": "c7d23491-d1b8-4c03-92e2-0495803caa93",
   "metadata": {},
   "outputs": [],
   "source": []
  },
  {
   "cell_type": "code",
   "execution_count": 16,
   "id": "1bad703e-cb88-449a-9319-3ed307c1fb3e",
   "metadata": {},
   "outputs": [
    {
     "name": "stdout",
     "output_type": "stream",
     "text": [
      "for entry level, we have 88\n",
      "for mid level, we have 213\n",
      "for senior level, we have 280\n",
      "for EXPERT level, we have 26\n"
     ]
    }
   ],
   "source": [
    "r=f.loc[f[\"experience_level\"]==0]\n",
    "print(\"for entry level, we have\", r[\"experience_level\"].count())\n",
    "\n",
    "t=f.loc[f[\"experience_level\"]==1]\n",
    "print(\"for mid level, we have\", t[\"experience_level\"].count())\n",
    "\n",
    "y=f.loc[f[\"experience_level\"]==2]\n",
    "print(\"for senior level, we have\", y[\"experience_level\"].count())\n",
    "\n",
    "R=f.loc[f[\"experience_level\"]==3]\n",
    "print(\"for EXPERT level, we have\", R[\"experience_level\"].count())"
   ]
  },
  {
   "cell_type": "code",
   "execution_count": null,
   "id": "8f7e8394-9676-4f84-a2d3-93965bc0766a",
   "metadata": {},
   "outputs": [],
   "source": []
  },
  {
   "cell_type": "code",
   "execution_count": 8,
   "id": "8e5f6652-b709-4448-b450-9a8b1a8d8297",
   "metadata": {},
   "outputs": [
    {
     "name": "stdout",
     "output_type": "stream",
     "text": [
      "for full time, we have 588\n",
      "for part time, we have 10\n",
      "for contract, we have 5\n",
      "for freelance, we have 4\n"
     ]
    }
   ],
   "source": [
    "u=f.loc[f[\"employment_type\"]==\"FT\"]\n",
    "print(\"for full time, we have\", u[\"employment_type\"].count())\n",
    "\n",
    "i=f.loc[f[\"employment_type\"]==\"PT\"]\n",
    "print(\"for part time, we have\", i[\"employment_type\"].count())\n",
    "\n",
    "o=f.loc[f[\"employment_type\"]==\"CT\"]\n",
    "print(\"for contract, we have\", o[\"employment_type\"].count())\n",
    "\n",
    "p=f.loc[f[\"employment_type\"]==\"FL\"]\n",
    "print(\"for freelance, we have\", p[\"employment_type\"].count())"
   ]
  },
  {
   "cell_type": "code",
   "execution_count": null,
   "id": "22ebf33e-5f22-4983-8129-6e1d09fd53bb",
   "metadata": {},
   "outputs": [],
   "source": []
  },
  {
   "cell_type": "code",
   "execution_count": 27,
   "id": "ea10f839-6f8d-4a04-81e5-f60006a6c669",
   "metadata": {},
   "outputs": [
    {
     "name": "stdout",
     "output_type": "stream",
     "text": [
      "for persons who dont work remotely, we have 127\n",
      "for persons who partially work remotely, we have 99\n",
      "for persons who work remotely, we have 381\n"
     ]
    }
   ],
   "source": [
    "k=f.loc[f[\"remote_ratio\"]==0]\n",
    "print(\"for persons who dont work remotely, we have\", k[\"remote_ratio\"].count())\n",
    "\n",
    "l=f.loc[f[\"remote_ratio\"]==50]\n",
    "print(\"for persons who partially work remotely, we have\", l[\"remote_ratio\"].count())\n",
    "\n",
    "z=f.loc[f[\"remote_ratio\"]==100]\n",
    "print(\"for persons who work remotely, we have\", z[\"remote_ratio\"].count())"
   ]
  },
  {
   "cell_type": "code",
   "execution_count": null,
   "id": "e614cc85-f22e-45bd-bf6e-0f0132a5fe93",
   "metadata": {},
   "outputs": [],
   "source": []
  },
  {
   "cell_type": "code",
   "execution_count": 28,
   "id": "80f33ce7-56d4-49ad-9409-899398de0fbc",
   "metadata": {},
   "outputs": [
    {
     "name": "stdout",
     "output_type": "stream",
     "text": [
      "     salary_in_usd                   job_title experience_level  remote_ratio\n",
      "0            79833              Data Scientist               MI             0\n",
      "1           260000  Machine Learning Scientist               SE             0\n",
      "2           109024           Big Data Engineer               SE            50\n",
      "3            20000        Product Data Analyst               MI             0\n",
      "4           150000   Machine Learning Engineer               SE            50\n",
      "..             ...                         ...              ...           ...\n",
      "602         154000               Data Engineer               SE           100\n",
      "603         126000               Data Engineer               SE           100\n",
      "604         129000                Data Analyst               SE             0\n",
      "605         150000                Data Analyst               SE           100\n",
      "606         200000                AI Scientist               MI           100\n",
      "\n",
      "[607 rows x 4 columns]\n"
     ]
    }
   ],
   "source": [
    "s=f[[\"salary_in_usd\", \"job_title\",'experience_level','remote_ratio']]\n",
    "print(s)"
   ]
  },
  {
   "cell_type": "code",
   "execution_count": null,
   "id": "b6ea09ce-87a2-42ee-a9a5-53a5ea7135b9",
   "metadata": {},
   "outputs": [],
   "source": []
  },
  {
   "cell_type": "code",
   "execution_count": 126,
   "id": "ece074bc-1062-436b-a4ec-84dd7829e5b5",
   "metadata": {},
   "outputs": [
    {
     "name": "stdout",
     "output_type": "stream",
     "text": [
      "     salary_in_usd                           job_title experience_level  \\\n",
      "33          450000                  Research Scientist               MI   \n",
      "63          412000                      Data Scientist               SE   \n",
      "97          450000              Financial Data Analyst               MI   \n",
      "157         423000  Applied Machine Learning Scientist               MI   \n",
      "225         416000            Principal Data Scientist               EX   \n",
      "252         600000             Principal Data Engineer               EX   \n",
      "523         405000                 Data Analytics Lead               SE   \n",
      "\n",
      "     remote_ratio  \n",
      "33              0  \n",
      "63            100  \n",
      "97            100  \n",
      "157            50  \n",
      "225           100  \n",
      "252           100  \n",
      "523           100  \n"
     ]
    }
   ],
   "source": [
    "g=s.loc[s[\"salary_in_usd\"]>400000]\n",
    "print(g)"
   ]
  },
  {
   "cell_type": "code",
   "execution_count": null,
   "id": "f0d9cb28-bf9a-45ff-92a5-f4d0eb2e4bed",
   "metadata": {},
   "outputs": [],
   "source": []
  },
  {
   "cell_type": "code",
   "execution_count": 29,
   "id": "b479ef8a-bc05-4540-9abb-639e6a286436",
   "metadata": {},
   "outputs": [
    {
     "name": "stdout",
     "output_type": "stream",
     "text": [
      "the principal data engineer is the highest paid with a salary of 600000\n"
     ]
    }
   ],
   "source": [
    "d=s.loc[s[\"salary_in_usd\"]>500000]\n",
    "print(\"the principal data engineer is the highest paid with a salary of\", d[\"salary_in_usd\"].max())"
   ]
  },
  {
   "cell_type": "code",
   "execution_count": null,
   "id": "c0ed8098-6f6f-4c82-ab5c-577702437d07",
   "metadata": {},
   "outputs": [],
   "source": []
  },
  {
   "cell_type": "code",
   "execution_count": 3,
   "id": "6646c71c-bcf5-4e11-bf8e-76ea19f04b2e",
   "metadata": {},
   "outputs": [
    {
     "name": "stdout",
     "output_type": "stream",
     "text": [
      "observation 1: the probability of being paid high depends mainly on the size of the company. large companies would pay high\n",
      "observation 2: the experience level didnt really matter. although being a senior or an expert was a plus\n",
      "observation 3: the US paid really higher than other countries. they were really liberal\n",
      "observation 4: most of the high paying jobs were fully remote\n"
     ]
    }
   ],
   "source": [
    "print(\"observation 1: the probability of being paid high depends mainly on the size of the company. large companies would pay high\")\n",
    "print(\"observation 2: the experience level didnt really matter. although being a senior or an expert was a plus\")\n",
    "print(\"observation 3: the US paid really higher than other countries. they were really liberal\")\n",
    "print(\"observation 4: most of the high paying jobs were fully remote\")"
   ]
  },
  {
   "cell_type": "code",
   "execution_count": null,
   "id": "6467667d-c60d-462e-bff8-7c475bcf9ecb",
   "metadata": {},
   "outputs": [],
   "source": []
  },
  {
   "cell_type": "code",
   "execution_count": null,
   "id": "34b6b2f6-5697-4fc6-a9bb-045e35f7bc74",
   "metadata": {},
   "outputs": [],
   "source": []
  },
  {
   "cell_type": "code",
   "execution_count": null,
   "id": "28e5f503-521b-41b1-8dd9-b3a36e8b143c",
   "metadata": {},
   "outputs": [],
   "source": []
  }
 ],
 "metadata": {
  "kernelspec": {
   "display_name": "Python 3 (ipykernel)",
   "language": "python",
   "name": "python3"
  },
  "language_info": {
   "codemirror_mode": {
    "name": "ipython",
    "version": 3
   },
   "file_extension": ".py",
   "mimetype": "text/x-python",
   "name": "python",
   "nbconvert_exporter": "python",
   "pygments_lexer": "ipython3",
   "version": "3.9.12"
  }
 },
 "nbformat": 4,
 "nbformat_minor": 5
}
